{
 "cells": [
  {
   "cell_type": "code",
   "execution_count": 44,
   "metadata": {},
   "outputs": [],
   "source": [
    "import pandas as pd\n",
    "import numpy as np\n",
    "import re"
   ]
  },
  {
   "cell_type": "code",
   "execution_count": 247,
   "metadata": {},
   "outputs": [
    {
     "name": "stdout",
     "output_type": "stream",
     "text": [
      "           Sample1       Sample2\n",
      "0      normal exam          exam\n",
      "1          examine         exams\n",
      "2     examinations      theexams\n",
      "3  ArithmeticError         exam1\n",
      "4      examination       example\n",
      "5          examine  I hate exams\n",
      "6          exams_3       exams_4\n",
      "7      exam brutal       15exams\n",
      "8             exam      A levels\n",
      "9            wait5            ca\n"
     ]
    }
   ],
   "source": [
    "data = np.array([\n",
    "    [\"normal exam\", \"exam\"],\n",
    "    [\"examine\",\"exams\"],\n",
    "    [\"examinations\", \"theexams\"],\n",
    "    [\"ArithmeticError\", \"exam1\"],\n",
    "    [\"examination\", \"example\"],\n",
    "    [\"examine\", \"I hate exams\"],\n",
    "    [\"exams_3\", \"exams_4\"],\n",
    "    [\"exam brutal\", \"15exams\"],\n",
    "    [\"exam\", \"A levels\"],\n",
    "    [\"wait5\", \"ca\"],\n",
    "    ])\n",
    "\n",
    "df = pd.DataFrame(data, columns = [\"Sample1\", \"Sample2\"])\n",
    "print(df)"
   ]
  },
  {
   "cell_type": "code",
   "execution_count": 248,
   "metadata": {},
   "outputs": [
    {
     "name": "stdout",
     "output_type": "stream",
     "text": [
      "Empty DataFrame\n",
      "Columns: [Sample1, Sample2]\n",
      "Index: []\n"
     ]
    }
   ],
   "source": [
    "keywords = r\"\\bwa\\d\"\n",
    "\n",
    "function = df.apply(lambda col: col.str.contains(keywords, flags = re.I, regex=True))\n",
    "\n",
    "filtered_df = df.loc[function.any(axis=1)]\n",
    "\n",
    "print(filtered_df)"
   ]
  }
 ],
 "metadata": {
  "kernelspec": {
   "display_name": "Assessment",
   "language": "python",
   "name": "python3"
  },
  "language_info": {
   "codemirror_mode": {
    "name": "ipython",
    "version": 3
   },
   "file_extension": ".py",
   "mimetype": "text/x-python",
   "name": "python",
   "nbconvert_exporter": "python",
   "pygments_lexer": "ipython3",
   "version": "3.12.4"
  }
 },
 "nbformat": 4,
 "nbformat_minor": 2
}
