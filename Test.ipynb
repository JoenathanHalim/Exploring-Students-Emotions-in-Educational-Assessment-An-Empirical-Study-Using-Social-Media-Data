{
 "cells": [
  {
   "cell_type": "markdown",
   "metadata": {},
   "source": [
    "Import Modules"
   ]
  },
  {
   "cell_type": "code",
   "execution_count": 3,
   "metadata": {},
   "outputs": [],
   "source": [
    "import numpy as np\n",
    "import pandas as pd\n"
   ]
  },
  {
   "cell_type": "markdown",
   "metadata": {},
   "source": [
    "Create Dataset"
   ]
  },
  {
   "cell_type": "code",
   "execution_count": 4,
   "metadata": {},
   "outputs": [],
   "source": [
    "posts = pd.read_csv(\"sgexams_posts_Oct2023.csv \")"
   ]
  },
  {
   "cell_type": "markdown",
   "metadata": {},
   "source": [
    "Filter Dataset based on keywords"
   ]
  },
  {
   "cell_type": "code",
   "execution_count": 15,
   "metadata": {},
   "outputs": [
    {
     "name": "stdout",
     "output_type": "stream",
     "text": [
      "   Unnamed: 0         id                                                                                                         title                                                                                                                                                                                                                                                                                                                                                                                                                                                                                                                                                                                                          body                         flair   created_utc              author  score  upvote_ratio  num_comments\n",
      "0           0  t3_l5f0io     [A Levels] JC is starting soon for many of you, feel free to AMA especially for prospective RJC students.                                                         Hi, I understand many of you are feeling nervous and perhaps even excited as JC starts in the next few days. Many of you probably have many questions going into JC soon and I'd be more than happy to address them. This is an open invitation to AMA or have a conversation, preferably through DMs.\\n\\nI am a J2 in RJC this year and also involved in Orientation 2021, so i'd especially welcome any rjc ama. but dont expect me to spoil too much HAHAHA i will only provide necessary information and things that are okay for yall to know :>       Junior Colleges :karma:  1.611671e+09              capnux   33.0          0.93          58.0\n",
      "1           1  t3_kv2aa1                                                                         [o level] did anyone get a for art :/                           so i got a b3 for art. :/ in the past few exams, ive been getting a1/a2 and for prelim i got an a1. my teachers told me that my final works can probably score me an a2.. but i got a b3. and i dont get why :/ my art teacher said that she currently doesnt know anyone else who got an a1 or a2 for art, so can anyone who got an a1 or a2 comment down below? and did anyone go through the same experience as me today? :/ im super disappointed because i really wanted a distinction grade for my art :( idk what to feel about my results anymore, im not really happy tbh.  O Levels :snoo_simple_smile:  1.610370e+09       lemonpuddiing   35.0          0.97          42.0\n",
      "5           5  t3_ij3ige                                                                             [A levels] H1 HISTORY OR H1 ECONS                                                                                                                                                                                                                                       hello im a student taking o lvls and im quite sure of entering jc and my subj combi alr, but im not too sure abt taking hist or econs. \\nbackground info: i like both equally and i take elective hist  and have been consistently scoring B3 and above \\nsome factors that i consider:\\n1. how to score for the subject\\n2. content\\n3. will background knowledge help               A Levels :snoo:  1.598748e+09      crushedoreos27    7.0          1.00          16.0\n",
      "6           6  t3_zjlwb0                                                                                      Yo i need yalls opinions  So in the past, like years before(around the early 2000s) \\nMy friend and I were sitting for our Olevels. My exams went smoothly but my friend had screwed up. During our Science practicals, he accidentally left the last 2 pages blank.He only realised in the last second when the examiner said 'put down your pens'. In a last ditch effort, he tried to write alittle bit more. He wasnt called out and left the lab peacefully. We now jokingly talk abt it occasionally. But now that i think I about it, what were the Possible Punishments my friend could have gotten If he had been called out.  O Levels :snoo_simple_smile:  1.670817e+09   Gamingwithjohn132   65.0          0.96           9.0\n",
      "8           8  t3_qq3rz2  [A Levels] Is it possible to study the entire H2 Bio syllabus in 1.5 weeks and get a C (while doing TYS) 🙏🏻😭                                                                                                    i literally haven’t touched H2 bio i have a little knowledge here and there is there a way to 临时抱佛脚 (last minute work) my way out of this 😢😢😢 any advice on any topics i should focus on more or any questions that always come out? \\n\\nalso will doing the TYS from 2016-2020 be helpful even if i don’t have much content? or should i study first then chiong the TYS ?\\n\\nupdate after getting results: got a C! studied 3 days before and somehow managed to pull it off LMAO thank u to everyone ❤️               A Levels :snoo:  1.636465e+09  handsanitiser12345   13.0          0.93           8.0\n",
      "(18793, 10)\n"
     ]
    }
   ],
   "source": [
    "def search_string(s, keywords):\n",
    "    s = str(s).lower()\n",
    "    return any(keyword in s for keyword in keywords)\n",
    "\n",
    "keywords = [\"exam\", \"examination\",\"psle\", \"o levels\", \"a levels\", \"assessment\", \"weighted assessment\", \"continual assessment\"]\n",
    "\n",
    "mask = posts.apply(lambda x: x.map(lambda s: search_string(s, keywords)))\n",
    "filtered_posts = posts.loc[mask.any(axis=1)]\n",
    "\n",
    "print(filtered_posts.to_string())\n",
    "print(filtered_posts.shape)"
   ]
  },
  {
   "cell_type": "code",
   "execution_count": 23,
   "metadata": {},
   "outputs": [
    {
     "name": "stdout",
     "output_type": "stream",
     "text": [
      "           test\n",
      "0          exam\n",
      "1       examine\n",
      "2         exams\n",
      "3    examinable\n",
      "4  examinations\n",
      "5      theexams\n",
      "7         exam1\n"
     ]
    }
   ],
   "source": [
    "keyword = [\"exam\"]\n",
    "\n",
    "test = [\"exam\",\"examine\",\"exams\",\"examinable\", \"examinations\", \"theexams\", \"ArithmeticError\", \"exam1\"]\n",
    "column = [\"test\"]\n",
    "\n",
    "df = pd.DataFrame(test, columns = column)\n",
    "\n",
    "mask = df.apply(lambda x: x.map(lambda s: search_string(s, keyword)))\n",
    "filter = df.loc[mask.any(axis=1)]\n",
    "print(filter)"
   ]
  }
 ],
 "metadata": {
  "kernelspec": {
   "display_name": "base",
   "language": "python",
   "name": "python3"
  },
  "language_info": {
   "codemirror_mode": {
    "name": "ipython",
    "version": 3
   },
   "file_extension": ".py",
   "mimetype": "text/x-python",
   "name": "python",
   "nbconvert_exporter": "python",
   "pygments_lexer": "ipython3",
   "version": "3.12.4"
  }
 },
 "nbformat": 4,
 "nbformat_minor": 2
}
