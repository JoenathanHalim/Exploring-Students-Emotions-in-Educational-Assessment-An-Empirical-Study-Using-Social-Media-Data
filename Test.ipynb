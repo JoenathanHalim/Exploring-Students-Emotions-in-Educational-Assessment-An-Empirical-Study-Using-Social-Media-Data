{
 "cells": [
  {
   "cell_type": "markdown",
   "metadata": {},
   "source": [
    "Import Modules"
   ]
  },
  {
   "cell_type": "code",
   "execution_count": 24,
   "metadata": {},
   "outputs": [],
   "source": [
    "import numpy as np\n",
    "import pandas as pd\n",
    "import re\n"
   ]
  },
  {
   "cell_type": "markdown",
   "metadata": {},
   "source": [
    "Create Dataset"
   ]
  },
  {
   "cell_type": "code",
   "execution_count": null,
   "metadata": {},
   "outputs": [],
   "source": [
    "posts = pd.read_csv(\"Dataset/sgexams_posts_Oct2023.csv\")\n",
    "print(posts.head().to_string)\n",
    "print(posts.shape) "
   ]
  },
  {
   "cell_type": "markdown",
   "metadata": {},
   "source": [
    "Data Analysis"
   ]
  },
  {
   "cell_type": "code",
   "execution_count": null,
   "metadata": {},
   "outputs": [],
   "source": [
    "print(posts.loc[posts[\"title\"].str.contains(\"exam\", regex=True)].to_string())"
   ]
  },
  {
   "cell_type": "markdown",
   "metadata": {},
   "source": [
    "Filter Dataset based on keywords"
   ]
  },
  {
   "cell_type": "code",
   "execution_count": 53,
   "metadata": {},
   "outputs": [
    {
     "name": "stdout",
     "output_type": "stream",
     "text": [
      "(20657, 10)\n"
     ]
    }
   ],
   "source": [
    "keywords = r\"\\bexam\\b|\\bexamination\\b|\\bexams\\b|\\bexaminations\\b|\\bpsle\\b|\\bo level\\b|\\bo levels\\b|\\ba level\\b|\\ba levels\\b|\\bassessment\\b|\\bassessments\\b|\\btest\\b|\\btests\\b|\\bquiz\\b|\\bquizzes\\b|\\bmidterm\\b|\\bmidterms\\b|\\bfinal\\b|\\bfinals\\b|\\bweighted assessment\\b|\\bweighted assessments\\b|\\bcontinual assessment\\b| \\bcontinual assessments\\b| \\bwa\\d | \\bca\\d | \\bsa\\d | \\bh\\d | \\bs\\d\"\n",
    "\n",
    "filtered_posts = posts.loc[posts[[\"title\", \"body\", \"flair\"]].apply(lambda col: col.str.contains(keywords, flags = re.I, regex=True)).any(axis=1)]\n",
    "\n",
    "print(filtered_posts.shape)"
   ]
  }
 ],
 "metadata": {
  "kernelspec": {
   "display_name": "base",
   "language": "python",
   "name": "python3"
  },
  "language_info": {
   "codemirror_mode": {
    "name": "ipython",
    "version": 3
   },
   "file_extension": ".py",
   "mimetype": "text/x-python",
   "name": "python",
   "nbconvert_exporter": "python",
   "pygments_lexer": "ipython3",
   "version": "3.12.4"
  }
 },
 "nbformat": 4,
 "nbformat_minor": 2
}
